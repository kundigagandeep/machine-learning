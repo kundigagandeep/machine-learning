{
 "cells": [
  {
   "cell_type": "markdown",
   "metadata": {},
   "source": [
    "Reference: https://www.kaggle.com/code/ahmetsouksu/energy-efficiency-of-buildings-98-accuracy-r-2"
   ]
  },
  {
   "cell_type": "code",
   "execution_count": null,
   "metadata": {},
   "outputs": [],
   "source": [
    "#libraries import\n",
    "import pandas as pd\n",
    "import numpy as np\n",
    "from sklearn.ensemble import RandomForestRegressor\n",
    "from sklearn.linear_model import LinearRegression\n",
    "from sklearn.naive_bayes import GaussianNB\n",
    "import math"
   ]
  },
  {
   "cell_type": "code",
   "execution_count": 5,
   "metadata": {},
   "outputs": [
    {
     "data": {
      "text/html": [
       "<div>\n",
       "<style scoped>\n",
       "    .dataframe tbody tr th:only-of-type {\n",
       "        vertical-align: middle;\n",
       "    }\n",
       "\n",
       "    .dataframe tbody tr th {\n",
       "        vertical-align: top;\n",
       "    }\n",
       "\n",
       "    .dataframe thead th {\n",
       "        text-align: right;\n",
       "    }\n",
       "</style>\n",
       "<table border=\"1\" class=\"dataframe\">\n",
       "  <thead>\n",
       "    <tr style=\"text-align: right;\">\n",
       "      <th></th>\n",
       "      <th>X1</th>\n",
       "      <th>X2</th>\n",
       "      <th>X3</th>\n",
       "      <th>X4</th>\n",
       "      <th>X5</th>\n",
       "      <th>X6</th>\n",
       "      <th>X7</th>\n",
       "      <th>X8</th>\n",
       "      <th>Y1</th>\n",
       "      <th>Y2</th>\n",
       "    </tr>\n",
       "  </thead>\n",
       "  <tbody>\n",
       "    <tr>\n",
       "      <th>0</th>\n",
       "      <td>0.98</td>\n",
       "      <td>514.5</td>\n",
       "      <td>294.0</td>\n",
       "      <td>110.25</td>\n",
       "      <td>7.0</td>\n",
       "      <td>2</td>\n",
       "      <td>0.0</td>\n",
       "      <td>0</td>\n",
       "      <td>15.55</td>\n",
       "      <td>21.33</td>\n",
       "    </tr>\n",
       "    <tr>\n",
       "      <th>1</th>\n",
       "      <td>0.98</td>\n",
       "      <td>514.5</td>\n",
       "      <td>294.0</td>\n",
       "      <td>110.25</td>\n",
       "      <td>7.0</td>\n",
       "      <td>3</td>\n",
       "      <td>0.0</td>\n",
       "      <td>0</td>\n",
       "      <td>15.55</td>\n",
       "      <td>21.33</td>\n",
       "    </tr>\n",
       "    <tr>\n",
       "      <th>2</th>\n",
       "      <td>0.98</td>\n",
       "      <td>514.5</td>\n",
       "      <td>294.0</td>\n",
       "      <td>110.25</td>\n",
       "      <td>7.0</td>\n",
       "      <td>4</td>\n",
       "      <td>0.0</td>\n",
       "      <td>0</td>\n",
       "      <td>15.55</td>\n",
       "      <td>21.33</td>\n",
       "    </tr>\n",
       "    <tr>\n",
       "      <th>3</th>\n",
       "      <td>0.98</td>\n",
       "      <td>514.5</td>\n",
       "      <td>294.0</td>\n",
       "      <td>110.25</td>\n",
       "      <td>7.0</td>\n",
       "      <td>5</td>\n",
       "      <td>0.0</td>\n",
       "      <td>0</td>\n",
       "      <td>15.55</td>\n",
       "      <td>21.33</td>\n",
       "    </tr>\n",
       "    <tr>\n",
       "      <th>4</th>\n",
       "      <td>0.90</td>\n",
       "      <td>563.5</td>\n",
       "      <td>318.5</td>\n",
       "      <td>122.50</td>\n",
       "      <td>7.0</td>\n",
       "      <td>2</td>\n",
       "      <td>0.0</td>\n",
       "      <td>0</td>\n",
       "      <td>20.84</td>\n",
       "      <td>28.28</td>\n",
       "    </tr>\n",
       "  </tbody>\n",
       "</table>\n",
       "</div>"
      ],
      "text/plain": [
       "     X1     X2     X3      X4   X5  X6   X7  X8     Y1     Y2\n",
       "0  0.98  514.5  294.0  110.25  7.0   2  0.0   0  15.55  21.33\n",
       "1  0.98  514.5  294.0  110.25  7.0   3  0.0   0  15.55  21.33\n",
       "2  0.98  514.5  294.0  110.25  7.0   4  0.0   0  15.55  21.33\n",
       "3  0.98  514.5  294.0  110.25  7.0   5  0.0   0  15.55  21.33\n",
       "4  0.90  563.5  318.5  122.50  7.0   2  0.0   0  20.84  28.28"
      ]
     },
     "execution_count": 5,
     "metadata": {},
     "output_type": "execute_result"
    }
   ],
   "source": [
    "df = pd.read_excel('ENB2012_data.xlsx')\n",
    "\n",
    "df.head()"
   ]
  },
  {
   "cell_type": "code",
   "execution_count": 7,
   "metadata": {},
   "outputs": [
    {
     "name": "stdout",
     "output_type": "stream",
     "text": [
      "<class 'pandas.core.frame.DataFrame'>\n",
      "RangeIndex: 768 entries, 0 to 767\n",
      "Data columns (total 10 columns):\n",
      " #   Column  Non-Null Count  Dtype  \n",
      "---  ------  --------------  -----  \n",
      " 0   X1      768 non-null    float64\n",
      " 1   X2      768 non-null    float64\n",
      " 2   X3      768 non-null    float64\n",
      " 3   X4      768 non-null    float64\n",
      " 4   X5      768 non-null    float64\n",
      " 5   X6      768 non-null    int64  \n",
      " 6   X7      768 non-null    float64\n",
      " 7   X8      768 non-null    int64  \n",
      " 8   Y1      768 non-null    float64\n",
      " 9   Y2      768 non-null    float64\n",
      "dtypes: float64(8), int64(2)\n",
      "memory usage: 60.1 KB\n"
     ]
    }
   ],
   "source": [
    "df.info()"
   ]
  },
  {
   "cell_type": "code",
   "execution_count": 8,
   "metadata": {},
   "outputs": [
    {
     "name": "stdout",
     "output_type": "stream",
     "text": [
      "(array([], dtype=int64), array([], dtype=int64))\n"
     ]
    }
   ],
   "source": [
    "#checking for outliers\n",
    "\n",
    "#z-score\n",
    "from scipy import stats as st\n",
    "z = np.abs(st.zscore(df))\n",
    "print(np.where(z > 3))"
   ]
  },
  {
   "cell_type": "code",
   "execution_count": 9,
   "metadata": {},
   "outputs": [
    {
     "name": "stdout",
     "output_type": "stream",
     "text": [
      "train         X1     X2     X3      X4   X5  X6    X7  X8     Y1     Y2\n",
      "668  0.62  808.5  367.5  220.50  3.5   2  0.40   3  16.47  16.90\n",
      "324  0.66  759.5  318.5  220.50  3.5   2  0.25   1  13.17  16.39\n",
      "624  0.98  514.5  294.0  110.25  7.0   2  0.40   3  32.82  32.78\n",
      "690  0.79  637.0  343.0  147.00  7.0   4  0.40   4  41.32  46.23\n",
      "473  0.64  784.0  343.0  220.50  3.5   3  0.25   4  16.69  19.76\n",
      "..    ...    ...    ...     ...  ...  ..   ...  ..    ...    ...\n",
      "190  0.62  808.5  367.5  220.50  3.5   4  0.10   3  12.71  14.14\n",
      "115  0.79  637.0  343.0  147.00  7.0   5  0.10   2  36.03  42.86\n",
      "732  0.82  612.5  318.5  147.00  7.0   2  0.40   5  30.00  29.93\n",
      "467  0.69  735.0  294.0  220.50  3.5   5  0.25   4  12.86  16.13\n",
      "94   0.62  808.5  367.5  220.50  3.5   4  0.10   1  12.93  14.33\n",
      "\n",
      "[460 rows x 10 columns]\n",
      "validate         X1     X2     X3      X4   X5  X6    X7  X8     Y1     Y2\n",
      "180  0.66  759.5  318.5  220.50  3.5   2  0.10   3  11.59  13.46\n",
      "301  0.82  612.5  318.5  147.00  7.0   3  0.25   1  27.27  27.84\n",
      "736  0.79  637.0  343.0  147.00  7.0   2  0.40   5  42.11  38.56\n",
      "569  0.64  784.0  343.0  220.50  3.5   3  0.40   1  19.36  22.73\n",
      "628  0.90  563.5  318.5  122.50  7.0   2  0.40   3  34.24  37.26\n",
      "..    ...    ...    ...     ...  ...  ..   ...  ..    ...    ...\n",
      "384  0.98  514.5  294.0  110.25  7.0   2  0.25   3  28.67  29.43\n",
      "224  0.69  735.0  294.0  220.50  3.5   2  0.10   4  11.18  14.29\n",
      "729  0.86  588.0  294.0  147.00  7.0   3  0.40   5  31.81  31.20\n",
      "630  0.90  563.5  318.5  122.50  7.0   4  0.40   3  35.05  33.82\n",
      "472  0.64  784.0  343.0  220.50  3.5   2  0.25   4  16.99  19.65\n",
      "\n",
      "[154 rows x 10 columns]\n",
      "test         X1     X2     X3      X4   X5  X6    X7  X8     Y1     Y2\n",
      "347  0.86  588.0  294.0  147.00  7.0   5  0.25   2  28.40  34.52\n",
      "505  0.74  686.0  245.0  220.50  3.5   3  0.25   5  11.67  14.58\n",
      "756  0.66  759.5  318.5  220.50  3.5   2  0.40   5  14.96  17.64\n",
      "710  0.66  759.5  318.5  220.50  3.5   4  0.40   4  15.09  18.36\n",
      "693  0.76  661.5  416.5  122.50  7.0   3  0.40   4  40.40  39.67\n",
      "..    ...    ...    ...     ...  ...  ..   ...  ..    ...    ...\n",
      "71   0.76  661.5  416.5  122.50  7.0   5  0.10   1  32.21  33.67\n",
      "106  0.86  588.0  294.0  147.00  7.0   4  0.10   2  26.33  27.36\n",
      "270  0.71  710.5  269.5  220.50  3.5   4  0.10   5  10.67  14.26\n",
      "435  0.98  514.5  294.0  110.25  7.0   5  0.25   4  28.62  30.12\n",
      "102  0.90  563.5  318.5  122.50  7.0   4  0.10   2  28.83  29.36\n",
      "\n",
      "[154 rows x 10 columns]\n"
     ]
    }
   ],
   "source": [
    "#train-validation-test\n",
    "#I will split the data into 3 as 60% train, 20% validation and 20% test.\n",
    "\n",
    "train, validate, test = np.split(df.sample(frac=1, random_state=42),\n",
    "                                [int(.6*len(df)), int(.8*len(df))])\n",
    "print(\"train \" , train)\n",
    "print(\"validate \" , validate)\n",
    "print(\"test \" , test)"
   ]
  },
  {
   "cell_type": "code",
   "execution_count": 10,
   "metadata": {},
   "outputs": [],
   "source": [
    "#now i split x columns and y columns\n",
    "x_train = train.iloc[:,:-2]\n",
    "y_train = train.iloc[:,8:]\n",
    "x_valid = validate.iloc[:,:-2]\n",
    "y_valid = validate.iloc[:,8:]\n",
    "x_test = test.iloc[:,:-2]\n",
    "y_test = test.iloc[:,8:]"
   ]
  },
  {
   "cell_type": "code",
   "execution_count": 11,
   "metadata": {},
   "outputs": [],
   "source": [
    "def rmse(x,y):\n",
    "    return math.sqrt(((x-y)**2).mean())"
   ]
  },
  {
   "cell_type": "code",
   "execution_count": 12,
   "metadata": {},
   "outputs": [],
   "source": [
    "def print_score(m):\n",
    "    m.fit(x_train,y_train)\n",
    "    \n",
    "    print(f\"R^2 of train set: {m.score(x_train, y_train)}\")\n",
    "    print(f\"R^2 of validation set: {m.score(x_valid, y_valid)}\")"
   ]
  },
  {
   "cell_type": "code",
   "execution_count": 13,
   "metadata": {},
   "outputs": [
    {
     "data": {
      "text/plain": [
       "0.9622399800336123"
      ]
     },
     "execution_count": 13,
     "metadata": {},
     "output_type": "execute_result"
    }
   ],
   "source": [
    "m = RandomForestRegressor(n_estimators=10, n_jobs=-1, max_features = .5, max_leaf_nodes=10)\n",
    "m.fit(x_train, y_train)\n",
    "m.score(x_train, y_train)\n",
    "m.score(x_valid, y_valid)"
   ]
  },
  {
   "cell_type": "code",
   "execution_count": 14,
   "metadata": {},
   "outputs": [],
   "source": [
    "#max leaf and features=0.5\n",
    "m1_1 = RandomForestRegressor(n_estimators=10, n_jobs=-1, max_features = .5)\n",
    "#max leaf and max features\n",
    "m1_2 = RandomForestRegressor(n_estimators=10, n_jobs=-1)\n",
    "#25 leaf and max faeatures\n",
    "m1_3 = RandomForestRegressor(n_estimators=10, n_jobs=-1,max_leaf_nodes=25)\n",
    "#50 leaf and features=0.75\n",
    "m1_4 = RandomForestRegressor(n_estimators=10, n_jobs=-1, max_leaf_nodes=50\n",
    "                            , max_features = .75)\n",
    "#50 leaf and features=0.25\n",
    "m1_5 = RandomForestRegressor(n_estimators=10, n_jobs=-1, max_leaf_nodes=100\n",
    "                            , max_features = .25)"
   ]
  },
  {
   "cell_type": "code",
   "execution_count": 15,
   "metadata": {},
   "outputs": [
    {
     "name": "stdout",
     "output_type": "stream",
     "text": [
      "R^2 of train set: 0.9962161834452916\n",
      "R^2 of validation set: 0.9766907307681628\n"
     ]
    }
   ],
   "source": [
    "print_score(m1_1)"
   ]
  },
  {
   "cell_type": "code",
   "execution_count": 16,
   "metadata": {},
   "outputs": [
    {
     "name": "stdout",
     "output_type": "stream",
     "text": [
      "R^2 of train set: 0.996346246393919\n",
      "R^2 of validation set: 0.976360263828908\n",
      "*********************\n",
      "R^2 of train set: 0.995982713548573\n",
      "R^2 of validation set: 0.9750675951906225\n",
      "*********************\n",
      "R^2 of train set: 0.982470833551617\n",
      "R^2 of validation set: 0.978608368792188\n",
      "*********************\n",
      "R^2 of train set: 0.9901524238912385\n",
      "R^2 of validation set: 0.9784422711583043\n",
      "*********************\n",
      "R^2 of train set: 0.9927082956674762\n",
      "R^2 of validation set: 0.975907539428\n"
     ]
    }
   ],
   "source": [
    "print_score(m1_1)\n",
    "print(\"*********************\")\n",
    "print_score(m1_2)\n",
    "print(\"*********************\")\n",
    "print_score(m1_3)\n",
    "print(\"*********************\")\n",
    "print_score(m1_4)\n",
    "print(\"*********************\")\n",
    "print_score(m1_5)"
   ]
  }
 ],
 "metadata": {
  "kernelspec": {
   "display_name": "Python 3.7.9 ('otomoto')",
   "language": "python",
   "name": "python3"
  },
  "language_info": {
   "codemirror_mode": {
    "name": "ipython",
    "version": 3
   },
   "file_extension": ".py",
   "mimetype": "text/x-python",
   "name": "python",
   "nbconvert_exporter": "python",
   "pygments_lexer": "ipython3",
   "version": "3.7.9"
  },
  "orig_nbformat": 4,
  "vscode": {
   "interpreter": {
    "hash": "df8d9bafaba3c8f6ae3a47cf545ff5cc65c398038ef4ae3c4be2fac1911e9e7d"
   }
  }
 },
 "nbformat": 4,
 "nbformat_minor": 2
}
