{
 "cells": [
  {
   "cell_type": "code",
   "execution_count": 2,
   "metadata": {},
   "outputs": [],
   "source": [
    "import pandas as pd\n",
    "import numpy as np"
   ]
  },
  {
   "cell_type": "code",
   "execution_count": null,
   "metadata": {},
   "outputs": [],
   "source": [
    "df = pd.read_csv('/Users/gagandeepkundi/Downloads/Warsaw_flat_prices_25_Sep_22.csv')\n",
    "\n",
    "df.head()"
   ]
  },
  {
   "cell_type": "code",
   "execution_count": null,
   "metadata": {},
   "outputs": [],
   "source": [
    "df[['city','district','street_name']] = df['Location'].str.split(\",\", expand=True).iloc[:,:3]\n",
    "\n",
    "df.head()"
   ]
  },
  {
   "cell_type": "code",
   "execution_count": null,
   "metadata": {},
   "outputs": [],
   "source": [
    "df[['Price','currency']] = df['Price'].str.rsplit(' ', 1, expand=True)"
   ]
  },
  {
   "cell_type": "code",
   "execution_count": null,
   "metadata": {},
   "outputs": [],
   "source": [
    "df[['Price per m2','currency_m2']] = df['Price per m2'].str.rsplit(' ', 1, expand=True)"
   ]
  },
  {
   "cell_type": "code",
   "execution_count": null,
   "metadata": {},
   "outputs": [],
   "source": [
    "df[['Rooms','word']] = df['Rooms'].str.rsplit(' ', 1, expand=True)"
   ]
  },
  {
   "cell_type": "code",
   "execution_count": null,
   "metadata": {},
   "outputs": [],
   "source": [
    "df[['Size M2','m2']] = df['Size M2'].str.rsplit(' ', 1, expand=True)"
   ]
  },
  {
   "cell_type": "code",
   "execution_count": null,
   "metadata": {},
   "outputs": [],
   "source": [
    "df.head()"
   ]
  },
  {
   "cell_type": "code",
   "execution_count": null,
   "metadata": {},
   "outputs": [],
   "source": [
    "df2 = df.drop(columns=['Location','currency_m2','word','m2'])"
   ]
  },
  {
   "cell_type": "code",
   "execution_count": null,
   "metadata": {},
   "outputs": [],
   "source": [
    "df2.head()"
   ]
  },
  {
   "cell_type": "markdown",
   "metadata": {},
   "source": [
    "Clean data types"
   ]
  },
  {
   "cell_type": "code",
   "execution_count": null,
   "metadata": {},
   "outputs": [],
   "source": [
    "df2['Price']=df2['Price'].str.replace(' ','')\n",
    "df2['Price per m2']=df2['Price per m2'].str.replace(' ','')"
   ]
  },
  {
   "cell_type": "code",
   "execution_count": null,
   "metadata": {},
   "outputs": [],
   "source": [
    "df2.head()"
   ]
  },
  {
   "cell_type": "code",
   "execution_count": null,
   "metadata": {},
   "outputs": [],
   "source": [
    "df3 = df2[df2['currency']!='€']"
   ]
  },
  {
   "cell_type": "code",
   "execution_count": null,
   "metadata": {},
   "outputs": [],
   "source": [
    "df3.head()"
   ]
  },
  {
   "cell_type": "code",
   "execution_count": null,
   "metadata": {},
   "outputs": [],
   "source": [
    "df3 = df3.rename(columns={'Price': 'price','Price per m2': 'price_per_m2','Rooms':'rooms','Size M2':'size_m2'})"
   ]
  },
  {
   "cell_type": "code",
   "execution_count": null,
   "metadata": {},
   "outputs": [],
   "source": [
    "df3.head()"
   ]
  },
  {
   "cell_type": "code",
   "execution_count": null,
   "metadata": {},
   "outputs": [],
   "source": [
    "df3 = df3[['city','district','street_name','rooms','size_m2','price_per_m2','price']]"
   ]
  },
  {
   "cell_type": "code",
   "execution_count": null,
   "metadata": {},
   "outputs": [],
   "source": [
    "df3.head()"
   ]
  },
  {
   "cell_type": "code",
   "execution_count": null,
   "metadata": {},
   "outputs": [],
   "source": [
    "df3=df3[df3['rooms']!='10+']\n",
    "\n",
    "df3['rooms'] = df3['rooms'].astype(int)"
   ]
  },
  {
   "cell_type": "code",
   "execution_count": null,
   "metadata": {},
   "outputs": [],
   "source": [
    "df3['size_m2'] = df3['size_m2'].astype(float)"
   ]
  },
  {
   "cell_type": "code",
   "execution_count": null,
   "metadata": {},
   "outputs": [],
   "source": [
    "df3=df3[df3['price_per_m2']!='$6,097.56/m²']"
   ]
  },
  {
   "cell_type": "code",
   "execution_count": null,
   "metadata": {},
   "outputs": [],
   "source": [
    "df3['price_per_m2'] = df3['price_per_m2'].astype(int)"
   ]
  },
  {
   "cell_type": "code",
   "execution_count": null,
   "metadata": {},
   "outputs": [],
   "source": [
    "#df3=df3[(df3['price']!='7812687,68')&(df3['price']!='5650318,09')]\n",
    "df3['price'] = df3['price'].str.replace(',','')\n",
    "df3['price'] = df3['price'].astype(float)"
   ]
  },
  {
   "cell_type": "code",
   "execution_count": null,
   "metadata": {},
   "outputs": [],
   "source": [
    "df3.dtypes"
   ]
  },
  {
   "cell_type": "code",
   "execution_count": null,
   "metadata": {},
   "outputs": [],
   "source": [
    "df3.to_csv('warsaw_apartment_sale.csv')"
   ]
  },
  {
   "cell_type": "code",
   "execution_count": null,
   "metadata": {},
   "outputs": [],
   "source": [
    "df3['district'].value_counts(normalize=True)"
   ]
  },
  {
   "cell_type": "code",
   "execution_count": null,
   "metadata": {},
   "outputs": [],
   "source": [
    "df3.groupby(by='district')['price'].mean()"
   ]
  },
  {
   "cell_type": "code",
   "execution_count": null,
   "metadata": {},
   "outputs": [],
   "source": [
    "df3.sort_values(by='price',ascending=False)"
   ]
  },
  {
   "cell_type": "code",
   "execution_count": null,
   "metadata": {},
   "outputs": [],
   "source": [
    "df_budget = df3[(df3['rooms']>=3)&(df3['price']<700000)]"
   ]
  },
  {
   "cell_type": "code",
   "execution_count": null,
   "metadata": {},
   "outputs": [],
   "source": [
    "df_budget[df_budget['street_name']!=None]"
   ]
  },
  {
   "cell_type": "code",
   "execution_count": 4,
   "metadata": {},
   "outputs": [
    {
     "data": {
      "text/html": [
       "<div>\n",
       "<style scoped>\n",
       "    .dataframe tbody tr th:only-of-type {\n",
       "        vertical-align: middle;\n",
       "    }\n",
       "\n",
       "    .dataframe tbody tr th {\n",
       "        vertical-align: top;\n",
       "    }\n",
       "\n",
       "    .dataframe thead th {\n",
       "        text-align: right;\n",
       "    }\n",
       "</style>\n",
       "<table border=\"1\" class=\"dataframe\">\n",
       "  <thead>\n",
       "    <tr style=\"text-align: right;\">\n",
       "      <th></th>\n",
       "      <th>city</th>\n",
       "      <th>district</th>\n",
       "      <th>street_name</th>\n",
       "      <th>rooms</th>\n",
       "      <th>size_m2</th>\n",
       "      <th>price_per_m2</th>\n",
       "      <th>price</th>\n",
       "    </tr>\n",
       "  </thead>\n",
       "  <tbody>\n",
       "    <tr>\n",
       "      <th>0</th>\n",
       "      <td>Warszawa</td>\n",
       "      <td>Praga-Północ</td>\n",
       "      <td>NaN</td>\n",
       "      <td>2</td>\n",
       "      <td>29.0</td>\n",
       "      <td>13655</td>\n",
       "      <td>396000.0</td>\n",
       "    </tr>\n",
       "    <tr>\n",
       "      <th>1</th>\n",
       "      <td>Warszawa</td>\n",
       "      <td>Bemowo</td>\n",
       "      <td>ul. Secemińska</td>\n",
       "      <td>3</td>\n",
       "      <td>60.1</td>\n",
       "      <td>11564</td>\n",
       "      <td>695000.0</td>\n",
       "    </tr>\n",
       "    <tr>\n",
       "      <th>2</th>\n",
       "      <td>Warszawa</td>\n",
       "      <td>Wilanów</td>\n",
       "      <td>NaN</td>\n",
       "      <td>2</td>\n",
       "      <td>55.0</td>\n",
       "      <td>15055</td>\n",
       "      <td>828000.0</td>\n",
       "    </tr>\n",
       "    <tr>\n",
       "      <th>3</th>\n",
       "      <td>Warszawa</td>\n",
       "      <td>Białołęka</td>\n",
       "      <td>NaN</td>\n",
       "      <td>3</td>\n",
       "      <td>55.2</td>\n",
       "      <td>13225</td>\n",
       "      <td>730000.0</td>\n",
       "    </tr>\n",
       "    <tr>\n",
       "      <th>4</th>\n",
       "      <td>Warszawa</td>\n",
       "      <td>Śródmieście</td>\n",
       "      <td>ul. Marszałkowska 111a</td>\n",
       "      <td>2</td>\n",
       "      <td>38.8</td>\n",
       "      <td>19330</td>\n",
       "      <td>750000.0</td>\n",
       "    </tr>\n",
       "  </tbody>\n",
       "</table>\n",
       "</div>"
      ],
      "text/plain": [
       "       city       district              street_name  rooms  size_m2  \\\n",
       "0  Warszawa   Praga-Północ                      NaN      2     29.0   \n",
       "1  Warszawa         Bemowo           ul. Secemińska      3     60.1   \n",
       "2  Warszawa        Wilanów                      NaN      2     55.0   \n",
       "3  Warszawa      Białołęka                      NaN      3     55.2   \n",
       "4  Warszawa    Śródmieście   ul. Marszałkowska 111a      2     38.8   \n",
       "\n",
       "   price_per_m2     price  \n",
       "0         13655  396000.0  \n",
       "1         11564  695000.0  \n",
       "2         15055  828000.0  \n",
       "3         13225  730000.0  \n",
       "4         19330  750000.0  "
      ]
     },
     "execution_count": 4,
     "metadata": {},
     "output_type": "execute_result"
    }
   ],
   "source": [
    "df = pd.read_csv('/Users/gagandeepkundi/Education/machine-learning/3-supervised-learning/2-regression/warsaw_apartment_sale.csv',index_col=0)\n",
    "\n",
    "df.head()"
   ]
  },
  {
   "cell_type": "code",
   "execution_count": 7,
   "metadata": {},
   "outputs": [
    {
     "name": "stderr",
     "output_type": "stream",
     "text": [
      "/var/folders/mz/z1pq672n1911ycwnmc8w4myw0000gn/T/ipykernel_50743/2380817835.py:4: UserWarning: \n",
      "\n",
      "`distplot` is a deprecated function and will be removed in seaborn v0.14.0.\n",
      "\n",
      "Please adapt your code to use either `displot` (a figure-level function with\n",
      "similar flexibility) or `histplot` (an axes-level function for histograms).\n",
      "\n",
      "For a guide to updating your code to use the new functions, please see\n",
      "https://gist.github.com/mwaskom/de44147ed2974457ad6372750bbe5751\n",
      "\n",
      "  sns.distplot(df['price_per_m2'],bins=30,color='purple',hist_kws=dict(edgecolor=\"k\", linewidth=2))\n"
     ]
    },
    {
     "data": {
      "text/plain": [
       "Text(0.5, 1.0, 'NORMAL DISTRIBUTION OF PRICES')"
      ]
     },
     "execution_count": 7,
     "metadata": {},
     "output_type": "execute_result"
    },
    {
     "data": {
      "image/png": "[encoded data removed]",
      "text/plain": [
       "<Figure size 1200x400 with 1 Axes>"
      ]
     },
     "metadata": {},
     "output_type": "display_data"
    }
   ],
   "source": [
    "import matplotlib.pyplot as plt\n",
    "import seaborn as sns\n",
    "plt.figure(figsize=(12,4))\n",
    "sns.distplot(df['price_per_m2'],bins=30,color='purple',hist_kws=dict(edgecolor=\"k\", linewidth=2))\n",
    "plt.title(\"NORMAL DISTRIBUTION OF PRICES\")"
   ]
  },
  {
   "cell_type": "code",
   "execution_count": 9,
   "metadata": {},
   "outputs": [
    {
     "data": {
      "text/html": [
       "<div>\n",
       "<style scoped>\n",
       "    .dataframe tbody tr th:only-of-type {\n",
       "        vertical-align: middle;\n",
       "    }\n",
       "\n",
       "    .dataframe tbody tr th {\n",
       "        vertical-align: top;\n",
       "    }\n",
       "\n",
       "    .dataframe thead th {\n",
       "        text-align: right;\n",
       "    }\n",
       "</style>\n",
       "<table border=\"1\" class=\"dataframe\">\n",
       "  <thead>\n",
       "    <tr style=\"text-align: right;\">\n",
       "      <th></th>\n",
       "      <th>district</th>\n",
       "      <th>size_m2</th>\n",
       "      <th>price_per_m2</th>\n",
       "    </tr>\n",
       "  </thead>\n",
       "  <tbody>\n",
       "    <tr>\n",
       "      <th>22</th>\n",
       "      <td>Śródmieście</td>\n",
       "      <td>70.134682</td>\n",
       "      <td>21410.658908</td>\n",
       "    </tr>\n",
       "    <tr>\n",
       "      <th>4</th>\n",
       "      <td>Centrum</td>\n",
       "      <td>64.080800</td>\n",
       "      <td>17555.040000</td>\n",
       "    </tr>\n",
       "    <tr>\n",
       "      <th>23</th>\n",
       "      <td>Żoliborz</td>\n",
       "      <td>70.167222</td>\n",
       "      <td>16429.282828</td>\n",
       "    </tr>\n",
       "    <tr>\n",
       "      <th>18</th>\n",
       "      <td>Wilanów</td>\n",
       "      <td>80.321290</td>\n",
       "      <td>16024.860215</td>\n",
       "    </tr>\n",
       "    <tr>\n",
       "      <th>7</th>\n",
       "      <td>Mokotów</td>\n",
       "      <td>69.276964</td>\n",
       "      <td>15743.406141</td>\n",
       "    </tr>\n",
       "    <tr>\n",
       "      <th>19</th>\n",
       "      <td>Wola</td>\n",
       "      <td>55.441119</td>\n",
       "      <td>15661.310169</td>\n",
       "    </tr>\n",
       "    <tr>\n",
       "      <th>8</th>\n",
       "      <td>Ochota</td>\n",
       "      <td>58.312677</td>\n",
       "      <td>14560.466321</td>\n",
       "    </tr>\n",
       "    <tr>\n",
       "      <th>5</th>\n",
       "      <td>Hirszfelda</td>\n",
       "      <td>42.000000</td>\n",
       "      <td>14262.000000</td>\n",
       "    </tr>\n",
       "    <tr>\n",
       "      <th>10</th>\n",
       "      <td>Praga-Północ</td>\n",
       "      <td>50.414730</td>\n",
       "      <td>13600.513514</td>\n",
       "    </tr>\n",
       "    <tr>\n",
       "      <th>21</th>\n",
       "      <td>mazowieckie</td>\n",
       "      <td>59.659492</td>\n",
       "      <td>13238.186441</td>\n",
       "    </tr>\n",
       "    <tr>\n",
       "      <th>14</th>\n",
       "      <td>Ursynów</td>\n",
       "      <td>65.881282</td>\n",
       "      <td>13166.488529</td>\n",
       "    </tr>\n",
       "    <tr>\n",
       "      <th>9</th>\n",
       "      <td>Praga-Południe</td>\n",
       "      <td>667.391315</td>\n",
       "      <td>12976.422222</td>\n",
       "    </tr>\n",
       "    <tr>\n",
       "      <th>20</th>\n",
       "      <td>Włochy</td>\n",
       "      <td>57.792992</td>\n",
       "      <td>12906.566929</td>\n",
       "    </tr>\n",
       "    <tr>\n",
       "      <th>3</th>\n",
       "      <td>Bielany</td>\n",
       "      <td>53.129314</td>\n",
       "      <td>12888.524088</td>\n",
       "    </tr>\n",
       "    <tr>\n",
       "      <th>6</th>\n",
       "      <td>Metro Wilanowska</td>\n",
       "      <td>115.000000</td>\n",
       "      <td>12609.000000</td>\n",
       "    </tr>\n",
       "    <tr>\n",
       "      <th>1</th>\n",
       "      <td>Bemowo</td>\n",
       "      <td>63.704394</td>\n",
       "      <td>12188.796296</td>\n",
       "    </tr>\n",
       "    <tr>\n",
       "      <th>15</th>\n",
       "      <td>Warszawa</td>\n",
       "      <td>53.831053</td>\n",
       "      <td>11918.473684</td>\n",
       "    </tr>\n",
       "    <tr>\n",
       "      <th>12</th>\n",
       "      <td>Targówek</td>\n",
       "      <td>55.677778</td>\n",
       "      <td>11345.645594</td>\n",
       "    </tr>\n",
       "    <tr>\n",
       "      <th>13</th>\n",
       "      <td>Ursus</td>\n",
       "      <td>55.121432</td>\n",
       "      <td>11263.680307</td>\n",
       "    </tr>\n",
       "    <tr>\n",
       "      <th>0</th>\n",
       "      <td>56E</td>\n",
       "      <td>37.000000</td>\n",
       "      <td>11081.000000</td>\n",
       "    </tr>\n",
       "    <tr>\n",
       "      <th>2</th>\n",
       "      <td>Białołęka</td>\n",
       "      <td>57.466263</td>\n",
       "      <td>10492.420918</td>\n",
       "    </tr>\n",
       "    <tr>\n",
       "      <th>17</th>\n",
       "      <td>Wesoła</td>\n",
       "      <td>72.817805</td>\n",
       "      <td>10287.707317</td>\n",
       "    </tr>\n",
       "    <tr>\n",
       "      <th>16</th>\n",
       "      <td>Wawer</td>\n",
       "      <td>82.777349</td>\n",
       "      <td>10041.813253</td>\n",
       "    </tr>\n",
       "    <tr>\n",
       "      <th>11</th>\n",
       "      <td>Rembertów</td>\n",
       "      <td>63.117424</td>\n",
       "      <td>9845.045455</td>\n",
       "    </tr>\n",
       "  </tbody>\n",
       "</table>\n",
       "</div>"
      ],
      "text/plain": [
       "             district     size_m2  price_per_m2\n",
       "22        Śródmieście   70.134682  21410.658908\n",
       "4             Centrum   64.080800  17555.040000\n",
       "23           Żoliborz   70.167222  16429.282828\n",
       "18            Wilanów   80.321290  16024.860215\n",
       "7             Mokotów   69.276964  15743.406141\n",
       "19               Wola   55.441119  15661.310169\n",
       "8              Ochota   58.312677  14560.466321\n",
       "5          Hirszfelda   42.000000  14262.000000\n",
       "10       Praga-Północ   50.414730  13600.513514\n",
       "21        mazowieckie   59.659492  13238.186441\n",
       "14            Ursynów   65.881282  13166.488529\n",
       "9      Praga-Południe  667.391315  12976.422222\n",
       "20             Włochy   57.792992  12906.566929\n",
       "3             Bielany   53.129314  12888.524088\n",
       "6    Metro Wilanowska  115.000000  12609.000000\n",
       "1              Bemowo   63.704394  12188.796296\n",
       "15           Warszawa   53.831053  11918.473684\n",
       "12           Targówek   55.677778  11345.645594\n",
       "13              Ursus   55.121432  11263.680307\n",
       "0                 56E   37.000000  11081.000000\n",
       "2           Białołęka   57.466263  10492.420918\n",
       "17             Wesoła   72.817805  10287.707317\n",
       "16              Wawer   82.777349  10041.813253\n",
       "11          Rembertów   63.117424   9845.045455"
      ]
     },
     "execution_count": 9,
     "metadata": {},
     "output_type": "execute_result"
    }
   ],
   "source": [
    "df.groupby(by=['district'])[['size_m2','price_per_m2']].mean().reset_index().sort_values(by='price_per_m2',ascending=False)"
   ]
  },
  {
   "cell_type": "code",
   "execution_count": 12,
   "metadata": {},
   "outputs": [
    {
     "data": {
      "text/plain": [
       "count     11230.000000\n",
       "mean      14452.196527\n",
       "std        5201.993502\n",
       "min           1.000000\n",
       "25%       11384.250000\n",
       "50%       13399.500000\n",
       "75%       16173.000000\n",
       "max      148889.000000\n",
       "Name: price_per_m2, dtype: float64"
      ]
     },
     "execution_count": 12,
     "metadata": {},
     "output_type": "execute_result"
    }
   ],
   "source": [
    "df['price_per_m2'].describe()"
   ]
  },
  {
   "cell_type": "code",
   "execution_count": null,
   "metadata": {},
   "outputs": [],
   "source": []
  }
 ],
 "metadata": {
  "kernelspec": {
   "display_name": "Python 3 (ipykernel)",
   "language": "python",
   "name": "python3"
  },
  "language_info": {
   "codemirror_mode": {
    "name": "ipython",
    "version": 3
   },
   "file_extension": ".py",
   "mimetype": "text/x-python",
   "name": "python",
   "nbconvert_exporter": "python",
   "pygments_lexer": "ipython3",
   "version": "3.9.12"
  },
  "vscode": {
   "interpreter": {
    "hash": "cca51db1e2569ae0013e41f7d21094f76edac68122bd27f49a117bf5bc8ab84f"
   }
  }
 },
 "nbformat": 4,
 "nbformat_minor": 2
}
