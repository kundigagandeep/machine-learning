{
 "cells": [
  {
   "cell_type": "code",
   "execution_count": 1,
   "metadata": {},
   "outputs": [
    {
     "ename": "AttributeError",
     "evalue": "module 'numpy' has no attribute 'asscalar'",
     "output_type": "error",
     "traceback": [
      "\u001b[0;31m---------------------------------------------------------------------------\u001b[0m",
      "\u001b[0;31mAttributeError\u001b[0m                            Traceback (most recent call last)",
      "Cell \u001b[0;32mIn[1], line 14\u001b[0m\n\u001b[1;32m      4\u001b[0m \u001b[39m# ts = 'data.csv'  # or\u001b[39;00m\n\u001b[1;32m      5\u001b[0m ts \u001b[39m=\u001b[39m { \n\u001b[1;32m      6\u001b[0m     \u001b[39m'\u001b[39m\u001b[39m1490323038\u001b[39m\u001b[39m'\u001b[39m: \u001b[39m3\u001b[39m,\n\u001b[1;32m      7\u001b[0m     \u001b[39m'\u001b[39m\u001b[39m1490323048\u001b[39m\u001b[39m'\u001b[39m: \u001b[39m4\u001b[39m,\n\u001b[0;32m   (...)\u001b[0m\n\u001b[1;32m     11\u001b[0m     \u001b[39m'\u001b[39m\u001b[39m1490323088\u001b[39m\u001b[39m'\u001b[39m: \u001b[39m5\u001b[39m,\n\u001b[1;32m     12\u001b[0m }\n\u001b[0;32m---> 14\u001b[0m my_detector \u001b[39m=\u001b[39m AnomalyDetector(ts)\n\u001b[1;32m     15\u001b[0m score \u001b[39m=\u001b[39m my_detector\u001b[39m.\u001b[39mget_all_scores()\n\u001b[1;32m     16\u001b[0m anom_score \u001b[39m=\u001b[39m []\n",
      "File \u001b[0;32m~/opt/anaconda3/envs/ml/lib/python3.10/site-packages/luminol/anomaly_detector.py:63\u001b[0m, in \u001b[0;36mAnomalyDetector.__init__\u001b[0;34m(self, time_series, baseline_time_series, score_only, score_threshold, score_percent_threshold, algorithm_name, algorithm_params, refine_algorithm_name, refine_algorithm_params, algorithm_class)\u001b[0m\n\u001b[1;32m     60\u001b[0m \u001b[39mself\u001b[39m\u001b[39m.\u001b[39mrefine_algorithm_params \u001b[39m=\u001b[39m refine_algorithm_params \u001b[39mor\u001b[39;00m {}\n\u001b[1;32m     62\u001b[0m \u001b[39m# Detect anomalies.\u001b[39;00m\n\u001b[0;32m---> 63\u001b[0m \u001b[39mself\u001b[39;49m\u001b[39m.\u001b[39;49m_detect(score_only)\n",
      "File \u001b[0;32m~/opt/anaconda3/envs/ml/lib/python3.10/site-packages/luminol/anomaly_detector.py:104\u001b[0m, in \u001b[0;36mAnomalyDetector._detect\u001b[0;34m(self, score_only)\u001b[0m\n\u001b[1;32m    102\u001b[0m     \u001b[39mself\u001b[39m\u001b[39m.\u001b[39manom_scores \u001b[39m=\u001b[39m algorithm\u001b[39m.\u001b[39mrun()\n\u001b[1;32m    103\u001b[0m \u001b[39mif\u001b[39;00m \u001b[39mnot\u001b[39;00m score_only:\n\u001b[0;32m--> 104\u001b[0m     \u001b[39mself\u001b[39;49m\u001b[39m.\u001b[39;49m_detect_anomalies()\n",
      "File \u001b[0;32m~/opt/anaconda3/envs/ml/lib/python3.10/site-packages/luminol/anomaly_detector.py:111\u001b[0m, in \u001b[0;36mAnomalyDetector._detect_anomalies\u001b[0;34m(self)\u001b[0m\n\u001b[1;32m    107\u001b[0m \u001b[39m\"\"\"\u001b[39;00m\n\u001b[1;32m    108\u001b[0m \u001b[39mDetect anomalies using a threshold on anomaly scores.\u001b[39;00m\n\u001b[1;32m    109\u001b[0m \u001b[39m\"\"\"\u001b[39;00m\n\u001b[1;32m    110\u001b[0m anom_scores \u001b[39m=\u001b[39m \u001b[39mself\u001b[39m\u001b[39m.\u001b[39manom_scores\n\u001b[0;32m--> 111\u001b[0m max_anom_score \u001b[39m=\u001b[39m anom_scores\u001b[39m.\u001b[39;49mmax()\n\u001b[1;32m    112\u001b[0m anomalies \u001b[39m=\u001b[39m []\n\u001b[1;32m    114\u001b[0m \u001b[39mif\u001b[39;00m max_anom_score:\n",
      "File \u001b[0;32m~/opt/anaconda3/envs/ml/lib/python3.10/site-packages/luminol/modules/time_series.py:337\u001b[0m, in \u001b[0;36mTimeSeries.max\u001b[0;34m(self, default)\u001b[0m\n\u001b[1;32m    330\u001b[0m \u001b[39mdef\u001b[39;00m \u001b[39mmax\u001b[39m(\u001b[39mself\u001b[39m, default\u001b[39m=\u001b[39m\u001b[39mNone\u001b[39;00m):\n\u001b[1;32m    331\u001b[0m     \u001b[39m\"\"\"\u001b[39;00m\n\u001b[1;32m    332\u001b[0m \u001b[39m    Calculate the maximum value over the time series.\u001b[39;00m\n\u001b[1;32m    333\u001b[0m \n\u001b[1;32m    334\u001b[0m \u001b[39m    :param default: Value to return as a default should the calculation not be possible.\u001b[39;00m\n\u001b[1;32m    335\u001b[0m \u001b[39m    :return: Float representing the maximum value or `None`.\u001b[39;00m\n\u001b[1;32m    336\u001b[0m \u001b[39m    \"\"\"\u001b[39;00m\n\u001b[0;32m--> 337\u001b[0m     \u001b[39mreturn\u001b[39;00m numpy\u001b[39m.\u001b[39;49masscalar(numpy\u001b[39m.\u001b[39mmax(\u001b[39mself\u001b[39m\u001b[39m.\u001b[39mvalues)) \u001b[39mif\u001b[39;00m \u001b[39mself\u001b[39m\u001b[39m.\u001b[39mvalues \u001b[39melse\u001b[39;00m default\n",
      "File \u001b[0;32m~/opt/anaconda3/envs/ml/lib/python3.10/site-packages/numpy/__init__.py:311\u001b[0m, in \u001b[0;36m__getattr__\u001b[0;34m(attr)\u001b[0m\n\u001b[1;32m    308\u001b[0m     \u001b[39mfrom\u001b[39;00m \u001b[39m.\u001b[39;00m\u001b[39mtesting\u001b[39;00m \u001b[39mimport\u001b[39;00m Tester\n\u001b[1;32m    309\u001b[0m     \u001b[39mreturn\u001b[39;00m Tester\n\u001b[0;32m--> 311\u001b[0m \u001b[39mraise\u001b[39;00m \u001b[39mAttributeError\u001b[39;00m(\u001b[39m\"\u001b[39m\u001b[39mmodule \u001b[39m\u001b[39m{!r}\u001b[39;00m\u001b[39m has no attribute \u001b[39m\u001b[39m\"\u001b[39m\n\u001b[1;32m    312\u001b[0m                      \u001b[39m\"\u001b[39m\u001b[39m{!r}\u001b[39;00m\u001b[39m\"\u001b[39m\u001b[39m.\u001b[39mformat(\u001b[39m__name__\u001b[39m, attr))\n",
      "\u001b[0;31mAttributeError\u001b[0m: module 'numpy' has no attribute 'asscalar'"
     ]
    }
   ],
   "source": [
    "from luminol.anomaly_detector import AnomalyDetector\n",
    "import time\n",
    "\n",
    "# ts = 'data.csv'  # or\n",
    "ts = { \n",
    "    '1490323038': 3,\n",
    "    '1490323048': 4,\n",
    "    '1490323058': 6,\n",
    "    '1490323068': 78,\n",
    "    '1490323078': 67,\n",
    "    '1490323088': 5,\n",
    "}\n",
    "\n",
    "my_detector = AnomalyDetector(ts)\n",
    "score = my_detector.get_all_scores()\n",
    "anom_score = []\n",
    "\n",
    "for (timestamp, value) in score.iteritems():\n",
    "    t_str = time.strftime('%Y-%m-%d %H:%M:%S', time.localtime(timestamp))\n",
    "    anom_score.append([t_str, value])\n",
    "\n",
    "for score in anom_score:\n",
    "    print(score)"
   ]
  },
  {
   "cell_type": "code",
   "execution_count": null,
   "metadata": {},
   "outputs": [],
   "source": []
  }
 ],
 "metadata": {
  "kernelspec": {
   "display_name": "Python 3.10.4 ('ml')",
   "language": "python",
   "name": "python3"
  },
  "language_info": {
   "codemirror_mode": {
    "name": "ipython",
    "version": 3
   },
   "file_extension": ".py",
   "mimetype": "text/x-python",
   "name": "python",
   "nbconvert_exporter": "python",
   "pygments_lexer": "ipython3",
   "version": "3.10.4"
  },
  "orig_nbformat": 4,
  "vscode": {
   "interpreter": {
    "hash": "cca51db1e2569ae0013e41f7d21094f76edac68122bd27f49a117bf5bc8ab84f"
   }
  }
 },
 "nbformat": 4,
 "nbformat_minor": 2
}
