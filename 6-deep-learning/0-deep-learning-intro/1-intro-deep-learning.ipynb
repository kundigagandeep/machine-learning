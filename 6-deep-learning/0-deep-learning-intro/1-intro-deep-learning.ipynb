{
 "cells": [
  {
   "cell_type": "markdown",
   "metadata": {},
   "source": [
    "#### What is Deep Learning?"
   ]
  },
  {
   "cell_type": "markdown",
   "metadata": {},
   "source": []
  }
 ],
 "metadata": {
  "kernelspec": {
   "display_name": "Python 3.10.4 ('ml')",
   "language": "python",
   "name": "python3"
  },
  "language_info": {
   "name": "python",
   "version": "3.10.4"
  },
  "orig_nbformat": 4,
  "vscode": {
   "interpreter": {
    "hash": "cca51db1e2569ae0013e41f7d21094f76edac68122bd27f49a117bf5bc8ab84f"
   }
  }
 },
 "nbformat": 4,
 "nbformat_minor": 2
}
